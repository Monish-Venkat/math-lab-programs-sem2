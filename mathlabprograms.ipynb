{
 "cells": [
  {
   "cell_type": "code",
   "execution_count": 4,
   "metadata": {},
   "outputs": [
    {
     "name": "stdout",
     "output_type": "stream",
     "text": [
      "[[1 1 1]\n",
      " [0 1 2]\n",
      " [1 5 3]]\n",
      "The Rank of the Matrix is : 3\n"
     ]
    }
   ],
   "source": [
    "# To find rank of the matrix\n",
    "import numpy as np\n",
    "mx = np.array([[1,1,1],[0,1,2],[1,5,3]])\n",
    "R = np.linalg.matrix_rank(mx)\n",
    "print(mx)\n",
    "print(\"The Rank of the Matrix is :\",R)"
   ]
  },
  {
   "cell_type": "code",
   "execution_count": 9,
   "metadata": {},
   "outputs": [
    {
     "name": "stdout",
     "output_type": "stream",
     "text": [
      "The rank of matrix A is:  2\n",
      "The system has non-trivial solution \n",
      "{(14*z/3, 8*z/3, z)}\n"
     ]
    }
   ],
   "source": [
    "# TO find solutions of homogeneous linear equations\n",
    "from sympy import *\n",
    "x,y,z =symbols('x,y,z')\n",
    "n = int(input(\"Enter the number of unknowns: \"))\n",
    "a11,a12,a13 = 1,3,-2\n",
    "a21,a22,a23 = 2,-1,4\n",
    "a31,a32,a33 = 1,-11,14\n",
    "A = Matrix(([a11,a12,a13],[a21,a22,a23],[a31,a32,a33]))\n",
    "ra = A.rank()\n",
    "print(\"The rank of matrix A is: \",ra)\n",
    "if(ra == n):\n",
    "    print(\"The system has only trivial solution\")\n",
    "else:\n",
    "    print(\"The system has non-trivial solution \")\n",
    "    print(linsolve([a11*x+a22*y+a13*z,a21*x+a22*y+a23*z+a31*x+a32*y+a33*z],[x,y,z]))"
   ]
  },
  {
   "cell_type": "code",
   "execution_count": 17,
   "metadata": {},
   "outputs": [
    {
     "name": "stdout",
     "output_type": "stream",
     "text": [
      "[[-1  3]\n",
      " [-2  4]]\n",
      "The eigen values of matrix a is [1. 2.]\n",
      "The eigen vectors of matrix a is [[-0.83205029 -0.70710678]\n",
      " [-0.5547002  -0.70710678]]\n"
     ]
    }
   ],
   "source": [
    "#To find eigen values and eigen vectors\n",
    "import numpy as np \n",
    "a = np.array([[-1,3],[-2,4]])\n",
    "print(a)\n",
    "from numpy.linalg import eig \n",
    "values,vectors = eig(a)\n",
    "print(\"The eigen values of matrix a is\",values)\n",
    "print(\"The eigen vectors of matrix a is\",vectors)"
   ]
  },
  {
   "cell_type": "code",
   "execution_count": 18,
   "metadata": {},
   "outputs": [
    {
     "name": "stdout",
     "output_type": "stream",
     "text": [
      "[[1 1 3]\n",
      " [1 5 1]\n",
      " [3 1 1]]\n",
      "The eigen values of the given matrix is [-2.  3.  6.]\n",
      "The eigen vectors of the given matrix is [[ 7.07106781e-01 -5.77350269e-01 -4.08248290e-01]\n",
      " [-2.50450702e-17  5.77350269e-01 -8.16496581e-01]\n",
      " [-7.07106781e-01 -5.77350269e-01 -4.08248290e-01]]\n"
     ]
    }
   ],
   "source": [
    "#To find eigen values and eigen vectorsimport numpy as np\n",
    "a = np.array([[1,1,3],[1,5,1],[3,1,1]])\n",
    "print(a)\n",
    "from numpy.linalg import eig\n",
    "values,vectors = eig(a)\n",
    "print(\"The eigen values of the given matrix is\",values)\n",
    "print(\"The eigen vectors of the given matrix is\", vectors)"
   ]
  },
  {
   "cell_type": "code",
   "execution_count": 20,
   "metadata": {},
   "outputs": [
    {
     "name": "stdout",
     "output_type": "stream",
     "text": [
      "Matrix : Matrix([[8, -6, 2], [-6, 7, -4], [2, -4, 3]])\n",
      "Diagonal of matrix is: Matrix([[0, 0, 0], [0, 3, 0], [0, 0, 15]])\n"
     ]
    }
   ],
   "source": [
    "#Diagonalize the matrix \n",
    "from sympy import *\n",
    "M = Matrix([[8,-6,2],[-6,7,-4],[2,-4,3]])\n",
    "print(\"Matrix : {}\".format(M))\n",
    "P,D = M.diagonalize()\n",
    "print(\"Diagonal of matrix is: {}\".format(D))"
   ]
  },
  {
   "cell_type": "code",
   "execution_count": 24,
   "metadata": {},
   "outputs": [
    {
     "name": "stdout",
     "output_type": "stream",
     "text": [
      "The first order derivative of F w.r.t x =  3*x**2 + 4*y + sin(z)\n",
      "The first order derivative of F w.r.t y =  4*x + z**8\n",
      "The first order derivative of F w.r.t z =  x*cos(z) + 8*y*z**7\n"
     ]
    }
   ],
   "source": [
    "#Finding the Partial Derivatives \n",
    "#Find the first order partial derivatives of f(x, y, z) = 4xy+xsinz+x3+yz8\n",
    "from sympy import *\n",
    "x,y,z = symbols('x,y,z',real=True)\n",
    "f = 4*x*y+x*sin(z)+x**3+y*z**8\n",
    "Fx = diff(f,x)\n",
    "Fy = diff(f,y)\n",
    "Fz = diff(f,z)\n",
    "print(\"The first order derivative of F w.r.t x = \",Fx)\n",
    "print(\"The first order derivative of F w.r.t y = \",Fy)\n",
    "print(\"The first order derivative of F w.r.t z = \",Fz)\n"
   ]
  },
  {
   "cell_type": "code",
   "execution_count": 1,
   "metadata": {},
   "outputs": [
    {
     "name": "stdout",
     "output_type": "stream",
     "text": [
      "Matrix([[1 - y, -x], [y, x]])\n",
      "Jacobian(A) =  x\n"
     ]
    }
   ],
   "source": [
    "#Partial Derivatives by Jacobian Method\n",
    "#Find the Jacobian when u = x(1 − y) and v = xy.\n",
    "from sympy import *\n",
    "x,y = symbols('x,y')\n",
    "u = x*(1-y)\n",
    "v = x*y\n",
    "A = Matrix([u,v])\n",
    "jacA = A.jacobian([x,y])\n",
    "print(jacA)\n",
    "Jacobian = simplify(det(jacA))\n",
    "print(\"Jacobian(A) = \",Jacobian)\n"
   ]
  },
  {
   "cell_type": "code",
   "execution_count": 15,
   "metadata": {},
   "outputs": [
    {
     "name": "stdout",
     "output_type": "stream",
     "text": [
      "The angle between the radius vector and the tangent = -5*pi/12\n",
      "The angle between the radius vector and the tangent = 7*pi/12\n"
     ]
    }
   ],
   "source": [
    "#Finding the angle between the radius vector and tangent\n",
    "#Find the angle between radius vector and the tangent for the curve r = a (1 + cos t) at t = π/6.\n",
    "from sympy import *\n",
    "a,t=symbols('a,t')\n",
    "R=a*(1+cos(t))\n",
    "dRdt=diff(R,t)\n",
    "R=R.subs(t,pi/6)\n",
    "dRdt=dRdt.subs(t,pi/6)\n",
    "PHI=atan(R/dRdt)\n",
    "print('The angle between the radius vector and the tangent =',PHI)\n",
    "if PHI<0:\n",
    "   PHI=PHI+pi\n",
    "print('The angle between the radius vector and the tangent =',PHI)\n"
   ]
  },
  {
   "cell_type": "code",
   "execution_count": 5,
   "metadata": {},
   "outputs": [
    {
     "name": "stdout",
     "output_type": "stream",
     "text": [
      "Radius of curvature is x**3*(c**4/x**4 + 1)**1.5/(2*c**2)\n"
     ]
    }
   ],
   "source": [
    "#8. Finding the radius of curvature in cartesian, parametric, polar and pedal forms (Common for all)\n",
    "# a.Find the radius of curvature for the curve xy = c2 in cartesian form.\n",
    "from sympy import *\n",
    "x,y,c=symbols('x,y,c')\n",
    "y=c**2/x\n",
    "y1=diff(y,x)\n",
    "y2=diff(y,x,2)\n",
    "roh=(1+y1**2)**(3/2)/y2\n",
    "print('Radius of curvature is',roh)\n"
   ]
  },
  {
   "cell_type": "code",
   "execution_count": 3,
   "metadata": {},
   "outputs": [
    {
     "name": "stdout",
     "output_type": "stream",
     "text": [
      "Radius of curvature is 4.0*(a**2)**0.5\n"
     ]
    }
   ],
   "source": [
    "#b. Find the radius of curvature for the curve x = a (t + sin t), y = a (1 − cos t) at t = 0 in parametric form.\n",
    "\n",
    "from sympy import *\n",
    "x,y,a,t=symbols('x,y,a,t')\n",
    "x=a*(t+sin(t))\n",
    "y=a*(1-cos(t))\n",
    "x1=diff(x,t)\n",
    "x2=diff(x1,t)\n",
    "y1=diff(y,t)\n",
    "y2=diff(y1,t)\n",
    "roh=simplify((x1**2+y1**2)**(3/2)/(x1*y2-y1*x2))\n",
    "roh=simplify(roh.subs(t,0))\n",
    "print('Radius of curvature is',roh)"
   ]
  },
  {
   "cell_type": "code",
   "execution_count": 2,
   "metadata": {},
   "outputs": [
    {
     "name": "stdout",
     "output_type": "stream",
     "text": [
      "Radius of curvature is 1.33333333333333*(a**2)**0.5\n"
     ]
    }
   ],
   "source": [
    "#c.Find the radius of curvature for the curve r = a (1 + cos t) at t = 0 in polar form\n",
    "from sympy import *\n",
    "x,y,a,t=symbols('x,y,a,t')\n",
    "r=a*(1+cos(t))\n",
    "r1=diff(r,t)\n",
    "r2=diff(r1,t)\n",
    "roh=simplify((r**2+r1**2)**(3/2)/(r**2+2*r1**2-r*r2))\n",
    "roh=simplify(roh.subs(t,0))\n",
    "print('Radius of curvature is',roh)\n"
   ]
  },
  {
   "cell_type": "code",
   "execution_count": 1,
   "metadata": {},
   "outputs": [
    {
     "name": "stdout",
     "output_type": "stream",
     "text": [
      "Radius of curvature is 1.0582673679788*(a*p**2)**0.666666666666667/p\n"
     ]
    }
   ],
   "source": [
    "# d.Find the radius of curvature for the curve r3 = 2ap2 in pedal form.\n",
    "\n",
    "from sympy import *\n",
    "p,a=symbols('p,a')\n",
    "r=(2*a*p**2)**(1/3)\n",
    "r1=diff(r,p)\n",
    "roh=simplify(r*r1)\n",
    "print('Radius of curvature is',roh)\n"
   ]
  },
  {
   "cell_type": "code",
   "execution_count": 9,
   "metadata": {},
   "outputs": [
    {
     "name": "stdout",
     "output_type": "stream",
     "text": [
      "(1, 2)\n",
      "(1, 3)\n",
      "(2, 1)\n",
      "(2, 3)\n",
      "(3, 1)\n",
      "(3, 2)\n",
      "Total no of permutations = 6\n"
     ]
    }
   ],
   "source": [
    "#9. Finding the Permutations\n",
    "#a. Find all permutations of 1, 2, 3 of length 2.\n",
    "from itertools import permutations\n",
    "count = 0\n",
    "perm = permutations([1,2,3],2)\n",
    "for i in list(perm):\n",
    "    count+=1\n",
    "    print(i)\n",
    "print(\"Total no of permutations =\",count)"
   ]
  },
  {
   "cell_type": "code",
   "execution_count": 10,
   "metadata": {},
   "outputs": [
    {
     "name": "stdout",
     "output_type": "stream",
     "text": [
      "(1, 2)\n",
      "(1, 3)\n",
      "(2, 3)\n",
      "Total no of combinations = 3\n"
     ]
    }
   ],
   "source": [
    "#10. Finding the Combinations\n",
    "#a. Find all combinations of 1, 2, 3 of length 2.\n",
    "from itertools import combinations\n",
    "count = 0\n",
    "comb = combinations([1,2,3],2)\n",
    "for i in list(comb):\n",
    "    count+=1\n",
    "    print(i)\n",
    "print(\"Total no of combinations =\",count)"
   ]
  }
 ],
 "metadata": {
  "kernelspec": {
   "display_name": "Python 3",
   "language": "python",
   "name": "python3"
  },
  "language_info": {
   "codemirror_mode": {
    "name": "ipython",
    "version": 3
   },
   "file_extension": ".py",
   "mimetype": "text/x-python",
   "name": "python",
   "nbconvert_exporter": "python",
   "pygments_lexer": "ipython3",
   "version": "3.11.5"
  }
 },
 "nbformat": 4,
 "nbformat_minor": 2
}
