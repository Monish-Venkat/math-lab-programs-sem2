{
 "cells": [
  {
   "cell_type": "code",
   "execution_count": 4,
   "metadata": {},
   "outputs": [
    {
     "name": "stdout",
     "output_type": "stream",
     "text": [
      "[[1 1 1]\n",
      " [0 1 2]\n",
      " [1 5 3]]\n",
      "The Rank of the Matrix is : 3\n"
     ]
    }
   ],
   "source": [
    "# To find rank of the matrix\n",
    "import numpy as np\n",
    "mx = np.array([[1,1,1],[0,1,2],[1,5,3]])\n",
    "R = np.linalg.matrix_rank(mx)\n",
    "print(mx)\n",
    "print(\"The Rank of the Matrix is :\",R)"
   ]
  },
  {
   "cell_type": "code",
   "execution_count": 9,
   "metadata": {},
   "outputs": [
    {
     "name": "stdout",
     "output_type": "stream",
     "text": [
      "The rank of matrix A is:  2\n",
      "The system has non-trivial solution \n",
      "{(14*z/3, 8*z/3, z)}\n"
     ]
    }
   ],
   "source": [
    "# TO find solutions of homogeneous linear equations\n",
    "from sympy import *\n",
    "x,y,z =symbols('x,y,z')\n",
    "n = int(input(\"Enter the number of unknowns: \"))\n",
    "a11,a12,a13 = 1,3,-2\n",
    "a21,a22,a23 = 2,-1,4\n",
    "a31,a32,a33 = 1,-11,14\n",
    "A = Matrix(([a11,a12,a13],[a21,a22,a23],[a31,a32,a33]))\n",
    "ra = A.rank()\n",
    "print(\"The rank of matrix A is: \",ra)\n",
    "if(ra == n):\n",
    "    print(\"The system has only trivial solution\")\n",
    "else:\n",
    "    print(\"The system has non-trivial solution \")\n",
    "    print(linsolve([a11*x+a22*y+a13*z,a21*x+a22*y+a23*z+a31*x+a32*y+a33*z],[x,y,z]))"
   ]
  },
  {
   "cell_type": "code",
   "execution_count": 17,
   "metadata": {},
   "outputs": [
    {
     "name": "stdout",
     "output_type": "stream",
     "text": [
      "[[-1  3]\n",
      " [-2  4]]\n",
      "The eigen values of matrix a is [1. 2.]\n",
      "The eigen vectors of matrix a is [[-0.83205029 -0.70710678]\n",
      " [-0.5547002  -0.70710678]]\n"
     ]
    }
   ],
   "source": [
    "#To find eigen values and eigen vectors\n",
    "import numpy as np \n",
    "a = np.array([[-1,3],[-2,4]])\n",
    "print(a)\n",
    "from numpy.linalg import eig \n",
    "values,vectors = eig(a)\n",
    "print(\"The eigen values of matrix a is\",values)\n",
    "print(\"The eigen vectors of matrix a is\",vectors)"
   ]
  },
  {
   "cell_type": "code",
   "execution_count": 18,
   "metadata": {},
   "outputs": [
    {
     "name": "stdout",
     "output_type": "stream",
     "text": [
      "[[1 1 3]\n",
      " [1 5 1]\n",
      " [3 1 1]]\n",
      "The eigen values of the given matrix is [-2.  3.  6.]\n",
      "The eigen vectors of the given matrix is [[ 7.07106781e-01 -5.77350269e-01 -4.08248290e-01]\n",
      " [-2.50450702e-17  5.77350269e-01 -8.16496581e-01]\n",
      " [-7.07106781e-01 -5.77350269e-01 -4.08248290e-01]]\n"
     ]
    }
   ],
   "source": [
    "#To find eigen values and eigen vectorsimport numpy as np\n",
    "a = np.array([[1,1,3],[1,5,1],[3,1,1]])\n",
    "print(a)\n",
    "from numpy.linalg import eig\n",
    "values,vectors = eig(a)\n",
    "print(\"The eigen values of the given matrix is\",values)\n",
    "print(\"The eigen vectors of the given matrix is\", vectors)"
   ]
  },
  {
   "cell_type": "code",
   "execution_count": 20,
   "metadata": {},
   "outputs": [
    {
     "name": "stdout",
     "output_type": "stream",
     "text": [
      "Matrix : Matrix([[8, -6, 2], [-6, 7, -4], [2, -4, 3]])\n",
      "Diagonal of matrix is: Matrix([[0, 0, 0], [0, 3, 0], [0, 0, 15]])\n"
     ]
    }
   ],
   "source": [
    "#Diagonalize the matrix \n",
    "from sympy import *\n",
    "M = Matrix([[8,-6,2],[-6,7,-4],[2,-4,3]])\n",
    "print(\"Matrix : {}\".format(M))\n",
    "P,D = M.diagonalize()\n",
    "print(\"Diagonal of matrix is: {}\".format(D))"
   ]
  },
  {
   "cell_type": "code",
   "execution_count": 24,
   "metadata": {},
   "outputs": [
    {
     "name": "stdout",
     "output_type": "stream",
     "text": [
      "The first order derivative of F w.r.t x =  3*x**2 + 4*y + sin(z)\n",
      "The first order derivative of F w.r.t y =  4*x + z**8\n",
      "The first order derivative of F w.r.t z =  x*cos(z) + 8*y*z**7\n"
     ]
    }
   ],
   "source": [
    "#Finding the Partial Derivatives \n",
    "#Find the first order partial derivatives of f(x, y, z) = 4xy+xsinz+x3+yz8\n",
    "from sympy import *\n",
    "x,y,z = symbols('x,y,z',real=True)\n",
    "f = 4*x*y+x*sin(z)+x**3+y*z**8\n",
    "Fx = diff(f,x)\n",
    "Fy = diff(f,y)\n",
    "Fz = diff(f,z)\n",
    "print(\"The first order derivative of F w.r.t x = \",Fx)\n",
    "print(\"The first order derivative of F w.r.t y = \",Fy)\n",
    "print(\"The first order derivative of F w.r.t z = \",Fz)\n"
   ]
  },
  {
   "cell_type": "code",
   "execution_count": null,
   "metadata": {},
   "outputs": [],
   "source": []
  }
 ],
 "metadata": {
  "kernelspec": {
   "display_name": "Python 3",
   "language": "python",
   "name": "python3"
  },
  "language_info": {
   "codemirror_mode": {
    "name": "ipython",
    "version": 3
   },
   "file_extension": ".py",
   "mimetype": "text/x-python",
   "name": "python",
   "nbconvert_exporter": "python",
   "pygments_lexer": "ipython3",
   "version": "3.11.5"
  }
 },
 "nbformat": 4,
 "nbformat_minor": 2
}
