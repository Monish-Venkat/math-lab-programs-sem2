{
 "cells": [
  {
   "cell_type": "code",
   "execution_count": 3,
   "id": "959a21e5-e278-4a84-bb7d-d84b0fc40ef8",
   "metadata": {},
   "outputs": [
    {
     "name": "stdout",
     "output_type": "stream",
     "text": [
      "Eq(2*x + (x + 2*y(x) + 1)*Derivative(y(x), x) + y(x) + 1, 0)\n",
      "[Eq(y(x), -x/2 - sqrt(C1 - 3*x**2 - 2*x)/2 - 1/2), Eq(y(x), -x/2 + sqrt(C1 - 3*x**2 - 2*x)/2 - 1/2)]\n"
     ]
    }
   ],
   "source": [
    "#FIRST ORDER DIFFERENTIAL EQUATION\n",
    "#PROGRAM 1\n",
    "from sympy import *  \n",
    "import numpy as np\n",
    "x = symbols('x',real = True) \n",
    "y = Function('y')(x) \n",
    "Equ=Eq(((2*x)+y+1)+(x+(2*y)+1)*diff(y,x),0) \n",
    "print(Equ) \n",
    "sol=dsolve(Equ,y,hint='1st_exact') \n",
    "print(sol)\n",
    "\n",
    "\n"
   ]
  },
  {
   "cell_type": "code",
   "execution_count": 4,
   "id": "a2c8127f-2f04-4b1c-bdc3-06ac0f878c72",
   "metadata": {},
   "outputs": [
    {
     "name": "stdout",
     "output_type": "stream",
     "text": [
      "the given equation is exact\n",
      "the solution is\n",
      "           4    \n",
      "y(x) = ─────────\n",
      "       x⋅(x + 3)\n"
     ]
    }
   ],
   "source": [
    "#FIRST ORDER DIFFERENTIAL EQUATION\n",
    "#PROGRAM 2\n",
    "from sympy import *  \n",
    "x = symbols('x',real = True)\n",
    "y = symbols('y',real = True)\n",
    "M = 2*x*y+3*y\n",
    "N = x**2+3*x\n",
    "if diff(M,y)==diff(N,x):\n",
    "    print('the given equation is exact')\n",
    "else:\n",
    "    print('the given equation is not exact')\n",
    "y = Function('y')\n",
    "eqn = (2*x*y(x)+3*y(x))+(x**2+3*x)*diff(y(x),x)\n",
    "solution = dsolve(eqn,y(x),ics = {y(1):1},hint = '1st_exact')\n",
    "print('the solution is')\n",
    "pprint(solution)"
   ]
  },
  {
   "cell_type": "code",
   "execution_count": null,
   "id": "79d32f28-8ca0-429a-8244-f7e1f5e4fd65",
   "metadata": {},
   "outputs": [],
   "source": []
  }
 ],
 "metadata": {
  "kernelspec": {
   "display_name": "Python 3 (ipykernel)",
   "language": "python",
   "name": "python3"
  },
  "language_info": {
   "codemirror_mode": {
    "name": "ipython",
    "version": 3
   },
   "file_extension": ".py",
   "mimetype": "text/x-python",
   "name": "python",
   "nbconvert_exporter": "python",
   "pygments_lexer": "ipython3",
   "version": "3.11.7"
  }
 },
 "nbformat": 4,
 "nbformat_minor": 5
}
