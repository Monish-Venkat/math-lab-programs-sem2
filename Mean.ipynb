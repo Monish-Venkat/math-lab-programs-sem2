{
 "cells": [
  {
   "cell_type": "code",
   "execution_count": 1,
   "id": "a11ad1ae-33c8-40ee-9352-fb5047474e79",
   "metadata": {},
   "outputs": [
    {
     "name": "stdout",
     "output_type": "stream",
     "text": [
      "the mean of x is : 3.0\n",
      "then mean of y is:  300.0\n"
     ]
    }
   ],
   "source": [
    "#FINDING THE MEAN\n",
    "#PROGRAM 1\n",
    "import numpy as np\n",
    "import pandas as pd\n",
    "data={\"X\":[1,2,3,4,5],\"Y\":[100,200,300,400,500]}\n",
    "df=pd.DataFrame(data) \n",
    "x=df[\"X\"]\n",
    "y=df[\"Y\"]\n",
    "xmean=x.mean()\n",
    "ymean=y.mean()\n",
    "print('the mean of x is :',xmean) \n",
    "print('then mean of y is: ',ymean)\n"
   ]
  },
  {
   "cell_type": "code",
   "execution_count": 2,
   "id": "2b4f9086-9183-49fb-b44f-0b96f14600ca",
   "metadata": {},
   "outputs": [
    {
     "name": "stdout",
     "output_type": "stream",
     "text": [
      "the mean of x is : 74.5\n",
      "then mean of y is:  125.75\n"
     ]
    }
   ],
   "source": [
    "#FINDING THE MEAN\n",
    "#PROGRAM 2\n",
    "import numpy as np\n",
    "import pandas as pd\n",
    "data={\"X\":[78,89,97,69,59,79,68,57],\"Y\":[125,137,156,112,107,138,123,108]}\n",
    "df=pd.DataFrame(data) \n",
    "x=df[\"X\"]\n",
    "y=df[\"Y\"]\n",
    "xmean=x.mean()\n",
    "ymean=y.mean()\n",
    "print('the mean of x is :',xmean) \n",
    "print('then mean of y is: ',ymean)"
   ]
  },
  {
   "cell_type": "code",
   "execution_count": 3,
   "id": "a4ea981f-75c8-49b0-9751-dd9b69861b0d",
   "metadata": {},
   "outputs": [
    {
     "name": "stdout",
     "output_type": "stream",
     "text": [
      "the mean of x is : 1.6200000000000003\n",
      "then ean of y is:  3000.0\n"
     ]
    }
   ],
   "source": [
    "#FINDING THE MEAN\n",
    "#PROGRAM 3\n",
    "import numpy as np\n",
    "import pandas as pd\n",
    "data={\"X\":[1.1,1.3,1.5,2.0,2.2],\"Y\":[1000,2000,3000,4000,5000]}\n",
    "df=pd.DataFrame(data) \n",
    "x=df[\"X\"]\n",
    "y=df[\"Y\"]\n",
    "xmean=x.mean()\n",
    "ymean=y.mean()\n",
    "print('the mean of x is :',xmean) \n",
    "print('then ean of y is: ',ymean)"
   ]
  },
  {
   "cell_type": "code",
   "execution_count": null,
   "id": "f564f54f-3bd8-4508-a241-9f2842f0e046",
   "metadata": {},
   "outputs": [],
   "source": []
  }
 ],
 "metadata": {
  "kernelspec": {
   "display_name": "Python 3 (ipykernel)",
   "language": "python",
   "name": "python3"
  },
  "language_info": {
   "codemirror_mode": {
    "name": "ipython",
    "version": 3
   },
   "file_extension": ".py",
   "mimetype": "text/x-python",
   "name": "python",
   "nbconvert_exporter": "python",
   "pygments_lexer": "ipython3",
   "version": "3.11.7"
  }
 },
 "nbformat": 4,
 "nbformat_minor": 5
}
