{
 "cells": [
  {
   "cell_type": "code",
   "execution_count": 1,
   "id": "6b7209f3-681e-4486-ad9a-bcf3308a5f1c",
   "metadata": {},
   "outputs": [
    {
     "name": "stdout",
     "output_type": "stream",
     "text": [
      "the corr of coff : 0.9487862679426301\n"
     ]
    }
   ],
   "source": [
    "#CORRELATION COEFFICIENT\n",
    "#PROGRAM 1\n",
    "import numpy as np\n",
    "import pandas as pd\n",
    "data={'x': [78,89,97,69,59,79,68,57], 'Y': [125, 137, 156, 112, 107, 138,123,108]}\n",
    "df=pd.DataFrame(data)\n",
    "x=df['x']\n",
    "y=df['Y']\n",
    "xmean=x.mean()\n",
    "ymean=y.mean()\n",
    "N=len(x)\n",
    "num=((N*(x*y).sum())-(x.sum()*y.sum()))\n",
    "den=np.sqrt(((N*(x**2).sum()-(x.sum())**2)*(N*(y**2).sum()-(y.sum())**2)))\n",
    "R=num/den\n",
    "print(\"the corr of coff :\",R)"
   ]
  },
  {
   "cell_type": "code",
   "execution_count": 2,
   "id": "1b4436d1-41f7-4412-bc51-a39c6b327262",
   "metadata": {},
   "outputs": [
    {
     "name": "stdout",
     "output_type": "stream",
     "text": [
      "0.9487862679426302\n"
     ]
    }
   ],
   "source": [
    "#CORRELATION COEFFICIENT\n",
    "#PROGRAM 1\n",
    "import numpy as np\n",
    "x=np.array((78,89,97,69,59,79,68,57))\n",
    "y=np.array((125,137,156,112,107,138,123,108))\n",
    "r=np.corrcoef(x,y) [0,1]\n",
    "print(r)"
   ]
  },
  {
   "cell_type": "code",
   "execution_count": null,
   "id": "f4db3f27-19c5-40ff-af46-8f76ceda6515",
   "metadata": {},
   "outputs": [],
   "source": []
  }
 ],
 "metadata": {
  "kernelspec": {
   "display_name": "Python 3 (ipykernel)",
   "language": "python",
   "name": "python3"
  },
  "language_info": {
   "codemirror_mode": {
    "name": "ipython",
    "version": 3
   },
   "file_extension": ".py",
   "mimetype": "text/x-python",
   "name": "python",
   "nbconvert_exporter": "python",
   "pygments_lexer": "ipython3",
   "version": "3.11.7"
  }
 },
 "nbformat": 4,
 "nbformat_minor": 5
}
