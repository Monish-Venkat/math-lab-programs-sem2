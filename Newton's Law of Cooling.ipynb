{
 "cells": [
  {
   "cell_type": "code",
   "execution_count": 1,
   "id": "bd52e431-9610-41bd-a2e5-d53ad81408fe",
   "metadata": {},
   "outputs": [
    {
     "name": "stdout",
     "output_type": "stream",
     "text": [
      "K =  0.0374693449441411\n",
      "T =  20 + 80*exp(-K*t)\n",
      "T =  45.9960937500000\n"
     ]
    }
   ],
   "source": [
    "#NEWTON'S LAW OF COOLING\n",
    "#PROGRAM 1\n",
    "from sympy import *\n",
    "t2 = 20\n",
    "t1 = 100\n",
    "T = 75\n",
    "t = 10\n",
    "K1 = (1/t)*log((t1-t2)/(T-t2))\n",
    "print('K = ',K1)\n",
    "K = symbols('K')\n",
    "t = symbols('t')\n",
    "T = Function('T')(t)\n",
    "T = t2+(t1-t2)*exp(-K*t)\n",
    "print('T = ',T)\n",
    "K = K1\n",
    "t = 30\n",
    "T = t2+(t1-t2)*exp(-K*t)\n",
    "print('T = ',T)"
   ]
  },
  {
   "cell_type": "code",
   "execution_count": 2,
   "id": "cf40d820-065f-491f-b131-c42a567d1edd",
   "metadata": {},
   "outputs": [
    {
     "name": "stdout",
     "output_type": "stream",
     "text": [
      "K =  0.0373077191956948\n",
      "t =  log(70/(T(t) - 30))/K\n",
      "t =  52.1583787754000\n"
     ]
    }
   ],
   "source": [
    "#NEWTON'S LAW OF COOLING\n",
    "#PROGRAM 2\n",
    "from sympy import *\n",
    "t2 = 30\n",
    "t1 = 100\n",
    "T = 70\n",
    "t = 15\n",
    "K1 = (1/t)*log((t1-t2)/(T-t2))\n",
    "print('K = ',K1)\n",
    "K = symbols('K')\n",
    "t = symbols('t')\n",
    "T = Function('T')(t)\n",
    "t = (1/K)*log((t1-t2)/(T-t2))\n",
    "print('t = ',t)\n",
    "K = K1\n",
    "T = 40\n",
    "t = (1/K)*log((t1-t2)/(T-t2))\n",
    "print('t = ',t)"
   ]
  }
 ],
 "metadata": {
  "kernelspec": {
   "display_name": "Python 3 (ipykernel)",
   "language": "python",
   "name": "python3"
  },
  "language_info": {
   "codemirror_mode": {
    "name": "ipython",
    "version": 3
   },
   "file_extension": ".py",
   "mimetype": "text/x-python",
   "name": "python",
   "nbconvert_exporter": "python",
   "pygments_lexer": "ipython3",
   "version": "3.11.7"
  }
 },
 "nbformat": 4,
 "nbformat_minor": 5
}
