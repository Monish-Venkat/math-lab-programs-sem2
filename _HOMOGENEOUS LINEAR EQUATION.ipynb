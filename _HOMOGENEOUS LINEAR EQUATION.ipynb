{
 "cells": [
  {
   "cell_type": "code",
   "execution_count": 11,
   "id": "a80233cf-65b7-4cba-b2ff-93e9414c1191",
   "metadata": {},
   "outputs": [
    {
     "data": {
      "text/latex": [
       "$\\displaystyle y{\\left(x \\right)} = x^{2} \\left(C_{1} \\sin{\\left(\\log{\\left(x \\right)} \\right)} + C_{2} \\cos{\\left(\\log{\\left(x \\right)} \\right)} - \\frac{\\log{\\left(x \\right)} \\cos{\\left(\\log{\\left(x \\right)} \\right)}}{2}\\right)$"
      ],
      "text/plain": [
       "Eq(y(x), x**2*(C1*sin(log(x)) + C2*cos(log(x)) - log(x)*cos(log(x))/2))"
      ]
     },
     "metadata": {},
     "output_type": "display_data"
    }
   ],
   "source": [
    "#8th Program\n",
    "#Homogenous Equation\n",
    "from sympy import *\n",
    "x = symbols('x')\n",
    "y = Function('y')(x)\n",
    "equ = Eq(((x**2)*Derivative(y,x,2))-(3*x*Derivative(y,x)-(5*y)),((x**2)*sin(log(x))))\n",
    "display(dsolve(equ))"
   ]
  },
  {
   "cell_type": "code",
   "execution_count": 12,
   "id": "25abfccc-d665-419c-81c5-054f08815a4f",
   "metadata": {},
   "outputs": [
    {
     "data": {
      "text/latex": [
       "$\\displaystyle y{\\left(x \\right)} = \\frac{x \\left(C_{1} \\sin{\\left(\\sqrt{2} \\log{\\left(x \\right)} \\right)} + C_{2} \\cos{\\left(\\sqrt{2} \\log{\\left(x \\right)} \\right)} + 3 x \\log{\\left(x \\right)} - 2 x\\right)}{9}$"
      ],
      "text/plain": [
       "Eq(y(x), x*(C1*sin(sqrt(2)*log(x)) + C2*cos(sqrt(2)*log(x)) + 3*x*log(x) - 2*x)/9)"
      ]
     },
     "metadata": {},
     "output_type": "display_data"
    }
   ],
   "source": [
    "#b\n",
    "from sympy import *\n",
    "x = symbols('x')\n",
    "y = Function('y')(x)\n",
    "equ = Eq(((x**2)*Derivative(y,x,2))-(x*Derivative(y,x)-(3*y)),((x**2)*log(x)))\n",
    "display(dsolve(equ))"
   ]
  },
  {
   "cell_type": "code",
   "execution_count": 15,
   "id": "fce6e7db-e275-4388-b8f9-4cba2f10403b",
   "metadata": {},
   "outputs": [
    {
     "data": {
      "text/latex": [
       "$\\displaystyle y{\\left(x \\right)} = \\frac{C_{1} + \\frac{x^{3} \\left(C_{2} x - 3 \\log{\\left(x \\right)} - 2\\right)}{9}}{x}$"
      ],
      "text/plain": [
       "Eq(y(x), (C1 + x**3*(C2*x - 3*log(x) - 2)/9)/x)"
      ]
     },
     "metadata": {},
     "output_type": "display_data"
    }
   ],
   "source": [
    "#FIND THE SOLUTION OF HOMOGENEOUS LINEAR EQUATION\n",
    "from sympy import*\n",
    "x = symbols('x')\n",
    "y = Function('y')(x)\n",
    "Equ = Eq(((x**2)*Derivative(y,x,2))-(x*Derivative(y,x))-(3*y),((x**2)*log(x)))\n",
    "display(dsolve(Equ))"
   ]
  },
  {
   "cell_type": "code",
   "execution_count": null,
   "id": "ab9835b5-52d5-414e-800c-3a458a088ce5",
   "metadata": {},
   "outputs": [],
   "source": []
  }
 ],
 "metadata": {
  "kernelspec": {
   "display_name": "Python 3 (ipykernel)",
   "language": "python",
   "name": "python3"
  },
  "language_info": {
   "codemirror_mode": {
    "name": "ipython",
    "version": 3
   },
   "file_extension": ".py",
   "mimetype": "text/x-python",
   "name": "python",
   "nbconvert_exporter": "python",
   "pygments_lexer": "ipython3",
   "version": "3.11.7"
  }
 },
 "nbformat": 4,
 "nbformat_minor": 5
}
