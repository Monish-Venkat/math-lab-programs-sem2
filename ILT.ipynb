{
 "cells": [
  {
   "cell_type": "code",
   "execution_count": 1,
   "id": "1e8597cb-9e0a-450b-9fc7-4af48b4aecad",
   "metadata": {},
   "outputs": [
    {
     "name": "stdout",
     "output_type": "stream",
     "text": [
      "LT 1/(3*(s + 1)) + 8/(3*(s - 2))\n",
      "ILT (8*exp(3*t) + 1)*exp(-t)/3\n"
     ]
    }
   ],
   "source": [
    "#INVERSE LAPLACE TRANSFORMATION\n",
    "#PROGRAM 1\n",
    "from sympy import *\n",
    "from sympy.integrals import inverse_laplace_transform\n",
    "a=symbols('a',real=True)\n",
    "t=symbols('t',positive=True)\n",
    "s=symbols('s')\n",
    "Fs=(3*s+2)/((s+1)*(s-2))\n",
    "Fs=apart(Fs)\n",
    "ILT=simplify(inverse_laplace_transform(Fs,s,t,noconds=True))\n",
    "print('LT',Fs)\n",
    "print('ILT',ILT)\n"
   ]
  },
  {
   "cell_type": "code",
   "execution_count": 2,
   "id": "dd03d8f3-964a-4fdf-836e-7a067d245bc6",
   "metadata": {},
   "outputs": [
    {
     "name": "stdout",
     "output_type": "stream",
     "text": [
      "LT 3/(s + 1) + (s + 1)**(-2)\n",
      "ILT (t + 3)*exp(-t)\n"
     ]
    }
   ],
   "source": [
    "#INVERSE LAPLACE TRANSFORMATION\n",
    "#PROGRAM 2\n",
    "from sympy import *\n",
    "from sympy.integrals import inverse_laplace_transform\n",
    "a=symbols('a',real=True)\n",
    "t=symbols('t',positive=True)\n",
    "s=symbols('s')\n",
    "Fs=(3*s+4)/((s+1)**2)\n",
    "Fs=apart(Fs)\n",
    "ILT=simplify(inverse_laplace_transform(Fs,s,t,noconds=True))\n",
    "print('LT',Fs)\n",
    "print('ILT',ILT)"
   ]
  }
 ],
 "metadata": {
  "kernelspec": {
   "display_name": "Python 3 (ipykernel)",
   "language": "python",
   "name": "python3"
  },
  "language_info": {
   "codemirror_mode": {
    "name": "ipython",
    "version": 3
   },
   "file_extension": ".py",
   "mimetype": "text/x-python",
   "name": "python",
   "nbconvert_exporter": "python",
   "pygments_lexer": "ipython3",
   "version": "3.11.7"
  }
 },
 "nbformat": 4,
 "nbformat_minor": 5
}
