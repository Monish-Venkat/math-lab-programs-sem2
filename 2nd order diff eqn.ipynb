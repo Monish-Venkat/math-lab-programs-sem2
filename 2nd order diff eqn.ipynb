{
 "cells": [
  {
   "cell_type": "code",
   "execution_count": 1,
   "id": "94413a5c-d24d-4c27-a670-3337b00e9160",
   "metadata": {},
   "outputs": [
    {
     "data": {
      "text/latex": [
       "$\\displaystyle y{\\left(x \\right)} = \\left(C_{1} + C_{2} e^{x}\\right) e^{2 x}$"
      ],
      "text/plain": [
       "Eq(y(x), (C1 + C2*exp(x))*exp(2*x))"
      ]
     },
     "metadata": {},
     "output_type": "display_data"
    }
   ],
   "source": [
    "#2nd order differential equation\n",
    "#Program 1\n",
    "from sympy import *\n",
    "x=symbols('x')\n",
    "y=Function('y')(x)\n",
    "DE=Eq(Derivative(y,x,2)-(5*Derivative(y,x))+(6*y),0)\n",
    "display(dsolve(DE))"
   ]
  },
  {
   "cell_type": "code",
   "execution_count": null,
   "id": "2139b557-905d-4e54-94c2-a2acd740ff37",
   "metadata": {},
   "outputs": [],
   "source": []
  }
 ],
 "metadata": {
  "kernelspec": {
   "display_name": "Python 3 (ipykernel)",
   "language": "python",
   "name": "python3"
  },
  "language_info": {
   "codemirror_mode": {
    "name": "ipython",
    "version": 3
   },
   "file_extension": ".py",
   "mimetype": "text/x-python",
   "name": "python",
   "nbconvert_exporter": "python",
   "pygments_lexer": "ipython3",
   "version": "3.11.7"
  }
 },
 "nbformat": 4,
 "nbformat_minor": 5
}
