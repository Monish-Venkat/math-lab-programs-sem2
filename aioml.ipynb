{
 "cells": [
  {
   "cell_type": "code",
   "execution_count": 26,
   "id": "822fdae0-7ff6-4f4d-a8c0-dbb041510e4f",
   "metadata": {},
   "outputs": [
    {
     "name": "stdout",
     "output_type": "stream",
     "text": [
      "the equation is exact\n",
      "the solution of the given differential equation is:\n",
      "                ___________________    \n",
      "               ╱      2                \n",
      "         x   ╲╱  - 3⋅x  - 2⋅x + 21    1\n",
      "y(x) = - ─ + ────────────────────── - ─\n",
      "         2             2              2\n"
     ]
    }
   ],
   "source": [
    "\n",
    "from sympy import*\n",
    "x,y=symbols('x,y',real=True)\n",
    "M=2*x+y+1\n",
    "N=x+2*y+1\n",
    "if diff(M,y)==diff(N,x):\n",
    " print('the equation is exact')\n",
    "else:\n",
    " print('equations is not exact')\n",
    "y=Function('y')\n",
    "deq=Eq((2*x+y(x)+1)+(x+2*y(x)+1)*diff(y(x)),0)\n",
    "ysoln=dsolve(deq,y(x),ics={y(1):1},hint='1st_exact')\n",
    "print(\"the solution of the given differential equation is:\")\n",
    "pprint(ysoln)"
   ]
  },
  {
   "cell_type": "code",
   "execution_count": 29,
   "id": "b5ae889d-6189-4dd5-bf38-42d102022912",
   "metadata": {},
   "outputs": [
    {
     "name": "stdout",
     "output_type": "stream",
     "text": [
      "X_mean and Y_mean 74.5 125.75\n"
     ]
    }
   ],
   "source": [
    "import numpy as np\n",
    "import pandas as pd\n",
    "data={'X':[78,89,97,69,59,79,68,57],'Y':[125,137,156,112,107,138,123,108]}\n",
    "df=pd.DataFrame(data)\n",
    "x=df['X']\n",
    "y=df['Y']\n",
    "x_mean=x.mean()\n",
    "y_mean=y.mean()\n",
    "print('X_mean and Y_mean',x_mean,y_mean)"
   ]
  },
  {
   "cell_type": "code",
   "execution_count": 33,
   "id": "81abd72e-8fff-4f01-a31d-f577129979c0",
   "metadata": {},
   "outputs": [
    {
     "name": "stdout",
     "output_type": "stream",
     "text": [
      "Coeff correlation is  0.9487862679426301\n"
     ]
    }
   ],
   "source": [
    "import numpy as np\n",
    "import pandas as pd\n",
    "data={'X':[78,89,97,69,59,79,68,57],'Y':[125,137,156,112,107,138,123,108]}\n",
    "df=pd.DataFrame(data)\n",
    "x=df['X']\n",
    "y=df['Y']\n",
    "n=len(x)\n",
    "num=(n*(x*y).sum()-(x.sum()*y.sum()))\n",
    "den=np.sqrt((n*(x**2).sum()-(x.sum())**2)*(n*(y**2).sum()-(y.sum())**2))\n",
    "R=num/den\n",
    "print('Coeff correlation is ',R)"
   ]
  },
  {
   "cell_type": "code",
   "execution_count": 35,
   "id": "e6189c2e-851e-4f9c-a64b-92bdc9f04beb",
   "metadata": {},
   "outputs": [
    {
     "name": "stdin",
     "output_type": "stream",
     "text": [
      "Enter the function (cos(3*t))*(cos(4*t))\n"
     ]
    },
    {
     "data": {
      "text/latex": [
       "$\\displaystyle \\frac{s}{2 \\left(s^{2} + 49\\right)} + \\frac{s}{2 \\left(s^{2} + 1\\right)}$"
      ],
      "text/plain": [
       "s/(2*(s**2 + 49)) + s/(2*(s**2 + 1))"
      ]
     },
     "metadata": {},
     "output_type": "display_data"
    }
   ],
   "source": [
    "from sympy import*\n",
    "import math\n",
    "from sympy.integrals import laplace_transform\n",
    "from sympy.abc import t,s,a\n",
    "f=input('Enter the function')\n",
    "fs=factor(f)\n",
    "ft=apart(laplace_transform(fs,t,s,noconds= True))\n",
    "display(ft)"
   ]
  },
  {
   "cell_type": "code",
   "execution_count": 36,
   "id": "97713633-459f-4405-a1bd-dc01781c7c05",
   "metadata": {},
   "outputs": [
    {
     "name": "stdin",
     "output_type": "stream",
     "text": [
      "Enter the function (s**2+2*s+3)/((s**2+2*s+2)*(s**2+2*s+5))\n"
     ]
    },
    {
     "data": {
      "text/latex": [
       "$\\displaystyle \\frac{\\left(\\sin{\\left(t \\right)} + \\sin{\\left(2 t \\right)}\\right) e^{- t}}{3}$"
      ],
      "text/plain": [
       "(sin(t) + sin(2*t))*exp(-t)/3"
      ]
     },
     "metadata": {},
     "output_type": "display_data"
    }
   ],
   "source": [
    "from sympy import*\n",
    "import math\n",
    "from sympy.integrals import inverse_laplace_transform\n",
    "a=symbols('a',real=True)\n",
    "t=symbols('t',positive=True)\n",
    "s=symbols('s')\n",
    "f=input('Enter the function')\n",
    "fs=apart(f)\n",
    "ft=simplify(inverse_laplace_transform(fs,s,t,noconds=True))\n",
    "display(ft)"
   ]
  },
  {
   "cell_type": "code",
   "execution_count": 7,
   "id": "5bc88001-374a-45ea-86f0-c6fc9ac8f9c8",
   "metadata": {},
   "outputs": [
    {
     "name": "stdout",
     "output_type": "stream",
     "text": [
      "The eqn is exact\n",
      "                       d                      \n",
      "2⋅x + (x + 2⋅y(x) + 1)⋅──(y(x)) + y(x) + 1 = 0\n",
      "                       dx                     \n"
     ]
    },
    {
     "data": {
      "text/latex": [
       "$\\displaystyle y{\\left(x \\right)} = - \\frac{x}{2} + \\frac{\\sqrt{- 3 x^{2} - 2 x + 21}}{2} - \\frac{1}{2}$"
      ],
      "text/plain": [
       "Eq(y(x), -x/2 + sqrt(-3*x**2 - 2*x + 21)/2 - 1/2)"
      ]
     },
     "metadata": {},
     "output_type": "display_data"
    }
   ],
   "source": [
    "from sympy import *\n",
    "x,y=symbols('x,y',real=True)\n",
    "M=2*x+y+1\n",
    "N=x+2*y+1\n",
    "if (diff(M,y)==diff(N,x)):\n",
    "    print('The eqn is exact')\n",
    "else:\n",
    "    print('The eqn is not exact')\n",
    "y=Function('y')\n",
    "equ=Eq((2*x+y(x)+1)+(x+2*y(x)+1)*diff(y(x)),0)\n",
    "pprint(equ)\n",
    "ysoln=dsolve(equ,y(x),ics={y(1):1},hint='1st_exact')\n",
    "display(ysoln)\n",
    "\n",
    "          "
   ]
  },
  {
   "cell_type": "code",
   "execution_count": 3,
   "id": "6517115a-1160-4698-8695-7b6d28d204e5",
   "metadata": {},
   "outputs": [
    {
     "name": "stdout",
     "output_type": "stream",
     "text": [
      "the equation is exact\n",
      "the solution of the given differential equation is:\n",
      "                ___________________    \n",
      "               ╱      2                \n",
      "         x   ╲╱  - 3⋅x  - 2⋅x + 21    1\n",
      "y(x) = - ─ + ────────────────────── - ─\n",
      "         2             2              2\n"
     ]
    }
   ],
   "source": [
    "from sympy import*\n",
    "x,y=symbols('x,y',real=True)\n",
    "M=2*x+y+1\n",
    "N=x+2*y+1\n",
    "if diff(M,y)==diff(N,x):\n",
    " print('the equation is exact')\n",
    "else:\n",
    " print('equations is not exact')\n",
    "y=Function('y')\n",
    "deq=Eq((2*x+y(x)+1)+(x+2*y(x)+1)*diff(y(x)),0)\n",
    "ysoln=dsolve(deq,y(x),ics={y(1):1},hint='1st_exact')\n",
    "print(\"the solution of the given differential equation is:\")\n",
    "pprint(ysoln)"
   ]
  },
  {
   "cell_type": "code",
   "execution_count": 9,
   "id": "d117e91b-cf77-488e-b551-fa82ec592e96",
   "metadata": {},
   "outputs": [
    {
     "name": "stdout",
     "output_type": "stream",
     "text": [
      "k1= 0.0374693449441411\n",
      "T= 20 + 80*exp(-k*t)\n",
      "T= 45.9960937500000\n"
     ]
    }
   ],
   "source": [
    "#Temperature of the body drops from 100°𝑐 in 10 minutes. Room temperature is 20°𝑐.What will be the temperature after 30 minutes?\n",
    "from sympy import *\n",
    "t1=100\n",
    "t2=20\n",
    "T=75\n",
    "t=10\n",
    "k1=(1/t)*log((t1-t2)/(T-t2))\n",
    "print('k1=',k1)\n",
    "k=symbols('k')\n",
    "t=symbols('t')\n",
    "T=Function('T')(t)\n",
    "T=t2+(t1-t2)*exp(-k*t)\n",
    "print('T=',T)\n",
    "k=k1\n",
    "t=30\n",
    "T=t2+(t1-t2)*exp(-k*t)\n",
    "print('T=',T)"
   ]
  },
  {
   "cell_type": "code",
   "execution_count": 13,
   "id": "06502d97-274b-4202-b58f-8c87bd39b719",
   "metadata": {},
   "outputs": [
    {
     "name": "stdout",
     "output_type": "stream",
     "text": [
      "k1= 0.0373077191956948\n",
      "t= log(70/(T(t) - 30))/k\n",
      "t= 52.1583787754000\n"
     ]
    }
   ],
   "source": [
    "#If the temperature of air is 30°c, a metal cools from 100°c to 70°c in 15 minutes. Find how long will it take for a metal ball to reach the temperature of 40°\n",
    "\n",
    "from sympy import *\n",
    "t1=100\n",
    "t2=30\n",
    "T=70\n",
    "t=15\n",
    "k1=(1/t)*log((t1-t2)/(T-t2))\n",
    "print('k1=',k1)\n",
    "k=symbols('k')\n",
    "t=symbols('t')\n",
    "T=Function('T')(t)\n",
    "t=(1/k)*log((t1-t2)/(T-t2))\n",
    "print('t=',t)\n",
    "k=k1\n",
    "T=40\n",
    "t=(1/k)*log((t1-t2)/(T-t2))\n",
    "print('t=',t)"
   ]
  },
  {
   "cell_type": "code",
   "execution_count": 18,
   "id": "219c0614-c099-4e39-8e98-bc37b8afe49d",
   "metadata": {},
   "outputs": [
    {
     "data": {
      "text/latex": [
       "$\\displaystyle y{\\left(x \\right)} = C_{1} e^{- x} + C_{2} e^{4 x}$"
      ],
      "text/plain": [
       "Eq(y(x), C1*exp(-x) + C2*exp(4*x))"
      ]
     },
     "metadata": {},
     "output_type": "display_data"
    }
   ],
   "source": [
    "#Solve 𝑑2𝑦/𝑑𝑥2 −3𝑑𝑦/𝑑𝑥−4𝑦 = 0\n",
    "from sympy import *\n",
    "x=symbols('x')\n",
    "y=Function('y')(x)\n",
    "DE=Eq((Derivative(y,x,2))-(3*Derivative(y,x))-(4*y),0)\n",
    "sol=dsolve(DE)\n",
    "display(sol)\n"
   ]
  },
  {
   "cell_type": "code",
   "execution_count": 20,
   "id": "555f7a12-fd48-4436-aff4-96398ffa3cd0",
   "metadata": {},
   "outputs": [
    {
     "data": {
      "text/latex": [
       "$\\displaystyle y{\\left(x \\right)} = \\frac{C_{1} + \\frac{x^{3} \\left(C_{2} x - 3 \\log{\\left(x \\right)} - 2\\right)}{9}}{x}$"
      ],
      "text/plain": [
       "Eq(y(x), (C1 + x**3*(C2*x - 3*log(x) - 2)/9)/x)"
      ]
     },
     "metadata": {},
     "output_type": "display_data"
    }
   ],
   "source": [
    "\n",
    "#Solve x2 d2ydx2 − xdydx−3y = x2log(x)\n",
    "\n",
    "from sympy import *\n",
    "x=symbols('x')\n",
    "y=Function('y')(x)\n",
    "DE=Eq(((x**2)*Derivative(y,x,2))-(x*Derivative(y,x))-(3*y),(x**2)*log(x))\n",
    "sol=dsolve(DE)\n",
    "display(sol)"
   ]
  },
  {
   "cell_type": "code",
   "execution_count": 21,
   "id": "67248a1f-bdcb-4581-bffc-7dfe7cc653f9",
   "metadata": {},
   "outputs": [
    {
     "name": "stdout",
     "output_type": "stream",
     "text": [
      "6*N.x*N.y*N.z\n"
     ]
    }
   ],
   "source": [
    "#Find the divergence of x2yzî+ y2zxĵ+ z2xyk̂.\n",
    "from sympy.vector import*\n",
    "from sympy import symbols\n",
    "N=CoordSys3D('N')\n",
    "x,y,z=symbols('x y z')\n",
    "A=N.x**2*N.y*N.z*N.i+N.y**2*N.x*N.z*N.j+N.z**2*N.y*N.x*N.k\n",
    "delop=Del()\n",
    "divA=delop.dot(A).doit()\n",
    "print(divA)"
   ]
  },
  {
   "cell_type": "code",
   "execution_count": 23,
   "id": "186d0622-ab04-41a2-b6bf-32a6993af70c",
   "metadata": {},
   "outputs": [
    {
     "name": "stdout",
     "output_type": "stream",
     "text": [
      "(2*N.x*N.y + 2*N.z)*N.i + N.x**2*N.j + 2*N.x*N.k\n"
     ]
    }
   ],
   "source": [
    "# ∅ = x2y + 2xz − 4.\n",
    "from sympy.vector import*\n",
    "from sympy import symbols\n",
    "N=CoordSys3D('N')\n",
    "x,y,z=symbols('x y z')\n",
    "A=N.x**2*N.y+2*N.x*N.z-4\n",
    "gradA=gradient(A)\n",
    "print(gradA)"
   ]
  },
  {
   "cell_type": "code",
   "execution_count": 24,
   "id": "a7960fd4-99fe-4419-9046-73e1c101b32b",
   "metadata": {},
   "outputs": [
    {
     "name": "stdout",
     "output_type": "stream",
     "text": [
      "(-N.x*N.y**2)*N.i + (N.x**2*N.y - N.z**3)*N.j + (-N.x**2*N.z + N.y**2*N.z)*N.k\n"
     ]
    }
   ],
   "source": [
    "#Find the curl of A⃗ = x2yzî+ y2zxĵ+ z2xyk̂.\n",
    "from sympy.vector import*\n",
    "from sympy import symbols\n",
    "N=CoordSys3D('N')\n",
    "x,y,z=symbols('x y z')\n",
    "A=N.x**2*N.y*N.z*N.i+N.y**2*N.x*N.z*N.j+N.z**2*N.x*N.z*N.k\n",
    "delop=Del()\n",
    "crossA=delop.cross(A).doit()\n",
    "print(crossA)"
   ]
  },
  {
   "cell_type": "code",
   "execution_count": 25,
   "id": "9c98f232-92a2-4788-9a5a-387d6331e477",
   "metadata": {},
   "outputs": [
    {
     "name": "stdout",
     "output_type": "stream",
     "text": [
      "213/2\n"
     ]
    }
   ],
   "source": [
    "#∫ (3x + y)dx + (2y − x)dy along the curve y = x2 + 1 from (0, 1) to (3, 10).\n",
    "from sympy import *\n",
    "x,y=symbols('x y')\n",
    "y=x**2+1\n",
    "f=(3*x+y)+(2*y-x)*diff(y,x)\n",
    "I=integrate(f,[x,0,3])\n",
    "I=simplify(I)\n",
    "print(I)"
   ]
  },
  {
   "cell_type": "code",
   "execution_count": null,
   "id": "6f8a0493-dde6-4b85-a35a-d0566d497b13",
   "metadata": {},
   "outputs": [],
   "source": []
  }
 ],
 "metadata": {
  "kernelspec": {
   "display_name": "Python 3 (ipykernel)",
   "language": "python",
   "name": "python3"
  },
  "language_info": {
   "codemirror_mode": {
    "name": "ipython",
    "version": 3
   },
   "file_extension": ".py",
   "mimetype": "text/x-python",
   "name": "python",
   "nbconvert_exporter": "python",
   "pygments_lexer": "ipython3",
   "version": "3.11.7"
  }
 },
 "nbformat": 4,
 "nbformat_minor": 5
}
