{
 "cells": [
  {
   "cell_type": "code",
   "execution_count": 1,
   "id": "889a0b73-3160-40ec-982e-8012a58aa471",
   "metadata": {},
   "outputs": [
    {
     "name": "stdin",
     "output_type": "stream",
     "text": [
      "Enter the function =  (8*exp(3*t) + 1)*exp(-t)/3\n"
     ]
    },
    {
     "name": "stdout",
     "output_type": "stream",
     "text": [
      "(1/(3*(s + 1)) + 8/(3*(s - 2)), 2, True)\n"
     ]
    }
   ],
   "source": [
    "#LAPLACE TRANSFORMATION\n",
    "#PROGRAM 1\n",
    "from sympy import *\n",
    "import math\n",
    "from sympy.integrals import laplace_transform\n",
    "from sympy.abc import t,s,a\n",
    "f = input('Enter the function = ')\n",
    "Ft = factor(f) \n",
    "Fs = apart(laplace_transform(Ft,t,s,nocards = true))\n",
    "print(Fs)"
   ]
  },
  {
   "cell_type": "code",
   "execution_count": null,
   "id": "7ccffe3e-486a-4935-baf0-d095d8e03d7f",
   "metadata": {},
   "outputs": [],
   "source": []
  }
 ],
 "metadata": {
  "kernelspec": {
   "display_name": "Python 3 (ipykernel)",
   "language": "python",
   "name": "python3"
  },
  "language_info": {
   "codemirror_mode": {
    "name": "ipython",
    "version": 3
   },
   "file_extension": ".py",
   "mimetype": "text/x-python",
   "name": "python",
   "nbconvert_exporter": "python",
   "pygments_lexer": "ipython3",
   "version": "3.11.7"
  }
 },
 "nbformat": 4,
 "nbformat_minor": 5
}
