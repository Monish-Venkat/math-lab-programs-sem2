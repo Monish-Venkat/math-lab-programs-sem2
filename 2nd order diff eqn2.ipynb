{
  "metadata": {
    "kernelspec": {
      "name": "python",
      "display_name": "Python (Pyodide)",
      "language": "python"
    },
    "language_info": {
      "codemirror_mode": {
        "name": "python",
        "version": 3
      },
      "file_extension": ".py",
      "mimetype": "text/x-python",
      "name": "python",
      "nbconvert_exporter": "python",
      "pygments_lexer": "ipython3",
      "version": "3.8"
    }
  },
  "nbformat_minor": 4,
  "nbformat": 4,
  "cells": [
    {
      "cell_type": "code",
      "source": "#2nd order differential equation\n#Program 2\nfrom sympy import*\nx=symbols('x')\ny=Function('y')(x)\nDE=Eq(Derivative(y,x,2)-(3*Derivative(y,x))+(4*y),0)\ndisplay(dsolve(DE))",
      "metadata": {
        "trusted": true
      },
      "outputs": [
        {
          "output_type": "display_data",
          "data": {
            "text/plain": "Eq(y(x), (C1*sin(sqrt(7)*x/2) + C2*cos(sqrt(7)*x/2))*exp(3*x/2))",
            "text/latex": "$\\displaystyle y{\\left(x \\right)} = \\left(C_{1} \\sin{\\left(\\frac{\\sqrt{7} x}{2} \\right)} + C_{2} \\cos{\\left(\\frac{\\sqrt{7} x}{2} \\right)}\\right) e^{\\frac{3 x}{2}}$"
          },
          "metadata": {}
        }
      ],
      "execution_count": 2
    },
    {
      "cell_type": "code",
      "source": "#2nd order differential equation\n#Program 3\nfrom sympy import*\nx=symbols('x')\ny=Function('y')(x)\nDE=Eq(4*Derivative(y,x,2)+(4*Derivative(y,x))-(3*y),0)\ndisplay(dsolve(DE))",
      "metadata": {
        "trusted": true
      },
      "outputs": [
        {
          "output_type": "display_data",
          "data": {
            "text/plain": "Eq(y(x), C1*exp(-3*x/2) + C2*exp(x/2))",
            "text/latex": "$\\displaystyle y{\\left(x \\right)} = C_{1} e^{- \\frac{3 x}{2}} + C_{2} e^{\\frac{x}{2}}$"
          },
          "metadata": {}
        }
      ],
      "execution_count": 3
    },
    {
      "cell_type": "code",
      "source": "",
      "metadata": {
        "trusted": true
      },
      "outputs": [],
      "execution_count": null
    }
  ]
}